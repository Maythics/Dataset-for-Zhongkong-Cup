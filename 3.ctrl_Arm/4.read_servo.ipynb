{
 "cells": [
  {
   "cell_type": "code",
   "execution_count": 1,
   "metadata": {},
   "outputs": [],
   "source": [
    "#!/usr/bin/env python3\n",
    "#coding=utf-8\n",
    "import time\n",
    "from Arm_Lib import Arm_Device\n",
    "\n",
    "Arm = Arm_Device()\n",
    "time.sleep(.1)\n"
   ]
  },
  {
   "cell_type": "code",
   "execution_count": 2,
   "metadata": {},
   "outputs": [
    {
     "name": "stdout",
     "output_type": "stream",
     "text": [
      "90\n",
      "180\n",
      "0\n",
      "0\n",
      "90\n",
      "0\n",
      " END OF LINE! \n",
      "90\n",
      "180\n",
      "0\n",
      "0\n",
      "90\n",
      "0\n",
      " END OF LINE! \n",
      "90\n",
      "180\n",
      "0\n",
      "0\n",
      "90\n",
      "0\n",
      " END OF LINE! \n",
      "90\n",
      "Arm_serial_servo_read I2C error\n",
      "None\n",
      "0\n",
      "0\n",
      "90\n",
      "0\n",
      " END OF LINE! \n",
      "90\n",
      "180\n",
      "0\n",
      "0\n",
      "90\n",
      "0\n",
      " END OF LINE! \n",
      "90\n",
      "180\n",
      "0\n",
      "0\n",
      "90\n",
      "0\n",
      " END OF LINE! \n",
      "90\n",
      "180\n",
      "0\n",
      "0\n",
      "90\n",
      "0\n",
      " END OF LINE! \n",
      "90\n",
      "180\n",
      "0\n",
      "0\n",
      "90\n",
      "0\n",
      " END OF LINE! \n",
      "90\n",
      "180\n",
      "0\n",
      "0\n",
      "90\n",
      "0\n",
      " END OF LINE! \n",
      "90\n",
      "180\n",
      "0\n",
      "0\n",
      "90\n",
      "0\n",
      " Program closed! \n"
     ]
    }
   ],
   "source": [
    "# Read the angles of all steering gears and print them out circularly\n",
    "# 读取所有舵机的角度，并循环打印出来\n",
    "def main():\n",
    "\n",
    "    while True:\n",
    "        for i in range(0,6):\n",
    "            aa = Arm.Arm_serial_servo_read(i+1)\n",
    "            print(aa)\n",
    "            time.sleep(.01)\n",
    "        time.sleep(.5)\n",
    "        print(\" END OF LINE! \")\n",
    "\n",
    "    \n",
    "try :\n",
    "    main()\n",
    "except KeyboardInterrupt:\n",
    "    print(\" Program closed! \")\n",
    "    pass\n"
   ]
  },
  {
   "cell_type": "code",
   "execution_count": 10,
   "metadata": {},
   "outputs": [
    {
     "name": "stdout",
     "output_type": "stream",
     "text": [
      "90\n",
      "160\n",
      "0\n",
      "0\n",
      "90\n",
      "0\n"
     ]
    }
   ],
   "source": [
    "# After controlling the movement of a steering gear separately, read its angle\n",
    "# 单独控制一个舵机运动后，再读取它的角度90,150,-30,70,90\n",
    "id = 2\n",
    "angle = 160\n",
    "\n",
    "Arm.Arm_serial_servo_write(id, angle, 500)\n",
    "time.sleep(1)\n",
    "\n",
    "aa = Arm.Arm_serial_servo_read(id)\n",
    "for i in range(0,6):\n",
    "  print(Arm.Arm_serial_servo_read(i+1))\n",
    "\n",
    "time.sleep(.5)\n"
   ]
  },
  {
   "cell_type": "code",
   "execution_count": 17,
   "metadata": {},
   "outputs": [],
   "source": [
    "del Arm  "
   ]
  },
  {
   "cell_type": "code",
   "execution_count": null,
   "metadata": {},
   "outputs": [],
   "source": []
  }
 ],
 "metadata": {
  "kernelspec": {
   "display_name": "Python 3",
   "language": "python",
   "name": "python3"
  },
  "language_info": {
   "codemirror_mode": {
    "name": "ipython",
    "version": 3
   },
   "file_extension": ".py",
   "mimetype": "text/x-python",
   "name": "python",
   "nbconvert_exporter": "python",
   "pygments_lexer": "ipython3",
   "version": "3.6.9"
  }
 },
 "nbformat": 4,
 "nbformat_minor": 4
}
